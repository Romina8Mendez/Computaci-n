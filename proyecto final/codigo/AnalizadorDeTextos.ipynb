{
  "nbformat": 4,
  "nbformat_minor": 0,
  "metadata": {
    "colab": {
      "provenance": []
    },
    "kernelspec": {
      "name": "python3",
      "display_name": "Python 3"
    },
    "language_info": {
      "name": "python"
    }
  },
  "cells": [
    {
      "cell_type": "code",
      "execution_count": null,
      "metadata": {
        "id": "GyBiIJZ9MwQH",
        "colab": {
          "base_uri": "https://localhost:8080/"
        },
        "outputId": "63f422dc-6990-4143-a7d5-91ba629d03d7"
      },
      "outputs": [
        {
          "output_type": "stream",
          "name": "stdout",
          "text": [
            "Ingresa un texto:On the whole, the longing for solitude is a sign that there still is spirit in a person and is the measure of what spirit there is\n",
            "Ingresa la primera letra de tu elección:On\n",
            "Ingresa la segunda letra de tu elección:the\n",
            "Ingresa la tercera letra de tu elección:is\n",
            "\n",
            "\n",
            "CANTIDAD DE LETRAS\n",
            "Hemos encontrado la letra 'on' repetida 3 veces.\n",
            "Hemos encontrado la letra 'the' repetida 5 veces.\n",
            "Hemos encontrado la letra 'is' repetida 4 veces.\n",
            "\n",
            "\n",
            "CANTIDAD DE PALABRAS\n",
            "En el texto hay 27 palabras.\n",
            "\n",
            "\n",
            "LETRAS DE INICIO Y FIN\n",
            "La primera letra del texto es 'o'.\n",
            "La última letra del texto es 's'.\n"
          ]
        }
      ],
      "source": [
        "#---------ANALIZADOR DE TEXTO-----------\n",
        "\n",
        "#--------------1-------------------\n",
        "texto= input('Ingresa un texto:')\n",
        "texto = texto.lower() #lo sobreescribimos\n",
        "\n",
        "letras = [] #variable que usaremos  abajo\n",
        "\n",
        "letras.append(input('Ingresa la primera letra de tu elección:').lower())\n",
        "letras.append(input('Ingresa la segunda letra de tu elección:').lower())\n",
        "letras.append(input('Ingresa la tercera letra de tu elección:').lower())\n",
        "\n",
        "\n",
        "print('\\n')\n",
        "print(\"CANTIDAD DE LETRAS\")\n",
        "Cantidad_letras1 = texto.count(letras[0])\n",
        "Cantidad_letras2 = texto.count(letras[1])\n",
        "Cantidad_letras3 = texto.count(letras[2])\n",
        "\n",
        "print(f\"Hemos encontrado la letra '{letras[0]}' repetida {Cantidad_letras1} veces.\")\n",
        "print(f\"Hemos encontrado la letra '{letras[1]}' repetida {Cantidad_letras2} veces.\")\n",
        "print(f\"Hemos encontrado la letra '{letras[2]}' repetida {Cantidad_letras3} veces.\")\n",
        "\n",
        "#--------------------------2---------------------------------\n",
        "\n",
        "\n",
        "print('\\n')\n",
        "print(\"CANTIDAD DE PALABRAS\")\n",
        "palabras = texto.split() \n",
        "print(f\"En el texto hay {len(palabras)} palabras.\")\n",
        "\n",
        "\n",
        "print('\\n')\n",
        "print(\"LETRAS DE INICIO Y FIN\")\n",
        "Letra_inicio = texto[0]\n",
        "Letra_final = texto[-1]\n",
        "print(f\"La primera letra del texto es '{Letra_inicio}'.\")\n",
        "print(f\"La última letra del texto es '{Letra_final}'.\")"
      ]
    }
  ]
}