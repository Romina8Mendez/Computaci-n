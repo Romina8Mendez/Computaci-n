{
  "cells": [
    {
      "cell_type": "markdown",
      "metadata": {
        "id": "es4jNH0dwlmd"
      },
      "source": [
        "# Tarea 7: Revisión de los conceptos básicos de Python\n",
        "### Computación - 8108\n",
        "#### Facultad de Ciencias - UNAM\n",
        "#### Profesores: C. Fís. Omar Trejo, C. Fís. Iván Jiménez, Pedro Flores-Silva\n",
        "\n",
        "Instrucciones: Este notebook contiene una serie de ejercicios que deben ser resueltos. Cada ejercicio se encuentra en una celda, ya sea de código o Markdown. Debes crear una o dos *celdas debajo de cada ejercicio* con tu(s) respectiva(s) respuestas. No modifiques las celdas originales.\n",
        "Recuerda que para ejecutar el código de una celda, presionar `Ctlr + Enter` o bien el boton de `play` en el editor Jupyter notebook.\n",
        "\n",
        "Cada ejercicio tendrá diferente valor, y se indicará en la celda de éste. La calificación final será la suma de los puntos obtenidos en cada ejercicio. Se calificará considerando la calidad de la respuesta, la claridad de la explicación y la correctitud del código. Por ejemplo, si el código no ejecuta la respuesta correcta pero se da una idea textual, se demuestra que hay comprensión del problema y el código hace sentido para el revisor, se otorgará una calificación parcial. Esto es, las respuestas no solo se evaluarán como bien o mal, sino que se considerará el esfuerzo. \n",
        "\n",
        "El codigo que realices debes comentarlo donde creas necesario, no vale no hacer ningún comentario. Recuerda que los comentarios son importantes para que el código sea legible y entendible, éstos se agregan con el símbolo # ."
      ]
    },
    {
      "cell_type": "markdown",
      "metadata": {
        "id": "jMwq89MHwlmh"
      },
      "source": [
        "### Ejercicio 1 (1 punto):\n",
        "En una celda Markdown contesta: ¿Qué es un nombre reservado en python? Enlista 5 ejemplos de nombres reservados en python y describe su función (aquí debes investigar su función si es que aún no hemos tratado dicho nombre reservado)."
      ]
    },
    {
      "cell_type": "markdown",
      "source": [
        "Un nombre reservado es una palabra que, dentro del lenguaje de programación de Python, ya se ha reservado para realizar ciertas tareas. Por tanto, no se pueden usar para nombrar otras variables.\n",
        "\n",
        "Algunos ejemplos de \"nombres reservados\" son:\n",
        "\n",
        "1.   True: es un valor booleano que resulta de operaciones de comparación u operaciones lógicas en Python.\n",
        "2.   False: es un valor booleano que resulta de operaciones de comparación u operaciones lógicas en Python.\n",
        "3.   class: se usa para definir una clase definida por el usuario.\n",
        "4.   none: representa a un valor nulo.\n",
        "5.   def: se usa para definir una función definida por el usuario.\n",
        "\n",
        "\n"
      ],
      "metadata": {
        "id": "PGN7Y5LaJ713"
      }
    },
    {
      "cell_type": "markdown",
      "metadata": {
        "id": "qRiIi0kHwlmi"
      },
      "source": [
        "### Ejercicio 2 (1 punto):\n",
        "En una celda Markdown: Coloca tres ejemplos de nombres de variables que no son válidos en python. Explica por qué no son válidos."
      ]
    },
    {
      "cell_type": "markdown",
      "source": [
        "\n",
        "*   892 = 'hola'\n",
        "\n",
        "Nótese que una variable no puede tomar como nombre un número, pues el interprete de Python analiza que un integer es igual a un string, lo cual, no tiene sentido y por tanto, arrojará un error en la sintaxis de la variable.\n",
        "\n",
        "\n",
        "*   hola crayola = 890\n",
        "\n",
        "Cuando una variable es nombrada, no debe tener espacios en blanco. En cuyo caso, cada palabra debe estar unidad por \"_\" o también, se puede escribir toda junta y hacer distinción con letras mayusculas.\n",
        "\n",
        "\n",
        "*   if = 'uwu'\n",
        "\n",
        "En Python, los nombres reservados (tal como \"if\") no pueden ser usados para dar nombre a variables.\n",
        "\n"
      ],
      "metadata": {
        "id": "xKvaWxioPu8B"
      }
    },
    {
      "cell_type": "markdown",
      "metadata": {
        "id": "nSGZCrpTwlmj"
      },
      "source": [
        "### Ejercicio 3 (3 puntos):\n",
        "Considera el siguiente polinomio: $f(x) = 10x^2 - 2x$. \n",
        "\n",
        "En una celda Markdown escribe:\n",
        "* Los pasos para encontrar sus raíces a través del método del despeje.\n",
        "* Los pasos para encontrar sus raíces a través del método de la chicharronera.\n",
        "\n",
        "En una celda de código, escribe un programa que compruebe que las raíces del polinomio $f(x) = 10x^2 - 2x$ que tu encontraste son correctas. El programa debe imprimir las raíces en la pantalla. (Debes usar la ecuación que obtuviste al depejar el polinomio).\n",
        "\n",
        "En otra celda de código, escribe un programa que encuentre las raíces del polinomio $f(x) = 10x^2 - 2x$ a través del método de la chicharronera. El programa debe imprimir las raíces en la pantalla. (Debes usar la chicharronera).\n",
        "\n",
        "Considera los signos de la chicharronera como dos operaciones diferentes: $(-)$ y $(+)$."
      ]
    },
    {
      "cell_type": "markdown",
      "source": [
        "Pasos para encontrar las raices del polinómio por despeje.\n",
        "\n",
        "---\n",
        "\n",
        "1.  Usando la factorización, podemos factorizar un término en común entre cada sumando. \n",
        "2.  Ahora, como de la factorización se obtiene un producto igual a cero, podemos usar la propiedad que dice \"si ab=0 entonces a=0 ó b=0\". Por lo que cada factor lo igualamos a cero obteniendo dos posibles soluciones.\n",
        "3. Finalmente, a cada igualdad obtenida, aplicamos operaciones aritmeticas para despejar el valor de cada raíz.\n",
        "\n"
      ],
      "metadata": {
        "id": "xWlCoOIwbVeY"
      }
    },
    {
      "cell_type": "code",
      "source": [
        "#Dado que se pide un progrma que compruebe la veracidad de las raíces del polinomio y posteriormente, imprima las raices en la pantalla, entonces haremos uso de las sentencias \"if\"\n",
        "\n",
        "#Primeramente, definimos dos variables \"p1\" y \"p2\" (en función de sus correspondientes raíces) que representan a las dos ecuaciones que se obtienen de despejar al polinomio. \n",
        "p1= x1_d\n",
        "p2= (10*(x2_d)) - 2\n",
        "\n",
        "#Después, definimos a una función llamada \"raíces\" cuyos parametros son \"x1_d, x2_d\" (las raíces encontradas).\n",
        "#Así, para comprobar que las raíces sean correctas, usamos la sentencia \"if\". Si son correctas, se verificará que las raices evaluadas en las ecuaciones obtenidas de despejar al\n",
        "#polinomio resulte cero. Si esta condición se cumple, entonces las raices son correctas y, por tanto, se imprimirán en la pantalla.\n",
        "def raices(x1_d, x2_d):\n",
        "  if p1==0 and p==0:\n",
        "    leyenda= f\"Las raíces del polinómio son: {x1_d} y {x2_d}\"\n",
        "\n",
        "    return leyenda\n",
        "\n",
        "#------------\n",
        "#De esta forma, declaramos dos variables cuyo valor sean igual a las raices encontradas. \n",
        "x1 = 0\n",
        "x_0 = 3.2-3\n",
        "x2= round(x,1)\n",
        "#Obs. Nos conviene definir a la segunda raíz \"x2\" de esa forma para fácilitar los cálculos más adelate, pues si la definimos directamente como \"x2=0.2\", al momento de realizar \n",
        "#operaciones con la variable \"x2=0.2\", el intérprete de python no podrá representar fracciones decimales en base 2 y en ves de arrojar, por ejemplo, un cero arrojará \"5.551115123125783e-17\".\n",
        "\n",
        "#Posteriormente, definimos a la variable \"raicesP_x\" usando la función raices y como parámetros introducimos a nuestras variables \"x1\" y \"x2\". Finalmente imprimimos \"raicesP_x\"\n",
        "raicesP_x= raices(x1,x2)\n",
        "print(raicesP_x)\n",
        "\n",
        "\n",
        "\n"
      ],
      "metadata": {
        "colab": {
          "base_uri": "https://localhost:8080/"
        },
        "id": "uVi_uzQ0TZi0",
        "outputId": "eb8dbc84-4bdb-469b-969b-e140ddaed11f"
      },
      "execution_count": null,
      "outputs": [
        {
          "output_type": "stream",
          "name": "stdout",
          "text": [
            "Las raíces del polinómio son: 0 y 0.2\n"
          ]
        }
      ]
    },
    {
      "cell_type": "markdown",
      "source": [
        "Pasos para encontrar las raices del polinómio por medio de la fórmula general.\n",
        "\n",
        "---\n",
        "\n",
        "1.   Nombramos al coeficiente del termino cuadratico \"a\"; al coeficiente del termino lineal \"b\"; mientras que el coeficiente del termino independiente \"c\". \n",
        "En caso de que el polinomio no presente algún término (ya sea cuadratico, lineal o independiente), se dice que su coeficiente es cero. En este caso, a= 10, b= -2 y c= 0.\n",
        "2.   Sustituimos el valor de a, b y c en la fórmula y realizamos las correspondientes operaciones.\n",
        "3. Cuando la expresión se haya simplificado, obtenemos dos posibles soluciones tomando en cuenta el signo (+) ó (-) que acompaña a la raiz cuadrada.\n",
        "4. Finalmente, operamos nuevamente y simplificamos las operaciones de las dos posibles soluciones para obtener el valor de las raíces. \n",
        "\n",
        "\n",
        "\n"
      ],
      "metadata": {
        "id": "ddhLJpTDVy6c"
      }
    },
    {
      "cell_type": "code",
      "source": [
        "\n",
        "#---------------------------------------------------------------------POR LA CHICHARRONERA----------------------------------------------\n",
        "#Sean las siguientes variables descritas por la \"fórmula general\":\n",
        "a= 10\n",
        "b= -2\n",
        "c= 0\n",
        "\n",
        "#Ahora, creamos dos variables (que tengan la misma jerarquía de operaciones que la fórmula general), que correspondan a los dos posibles valores que arroja la fórmula general:\n",
        "x1= ((b*-1) + ( ((b**(2)) - (4*a*c)) **(1/2) ) )/ (2*a)\n",
        "x2= ((b*-1) - ( ((b**(2)) - (4*a*c)) **(1/2) ) )/ (2*a)\n",
        "\n",
        "#Finalmente, concatenamos las variables en una sola leyenda para imprimir:\n",
        "print(f\"Las raíces del polinómio son: {x1} y {x2}\" )\n"
      ],
      "metadata": {
        "colab": {
          "base_uri": "https://localhost:8080/"
        },
        "id": "kvvlDGMpUeuT",
        "outputId": "c7e7edb3-77a5-4881-a5ee-b653ce86ea09"
      },
      "execution_count": null,
      "outputs": [
        {
          "output_type": "stream",
          "name": "stdout",
          "text": [
            "Las raices del polinómio son: 0.2 y 0.0\n"
          ]
        }
      ]
    },
    {
      "cell_type": "markdown",
      "metadata": {
        "id": "7pw0Q2mBwlml"
      },
      "source": [
        "### Ejercicio 4 (3 puntos):\n",
        "Caida libre: El gran Galileo Galilei subió la torre de Pisa para determinar el tiempo que tarda un objeto en caer desde una altura $H$ al suelo. Para ello, colocó un objeto de masa $m=100$ kg en la torre y lo dejó caer. El tiempo que tardó en caer fue $t=0.05616667$ minutos.\n",
        "\n",
        "Considerando que la aceleración de la gravedad es $g=9.8$ $\\frac{m}{s^2}$, escribe un programa que determine la altura de la torre de Pisa. El programa debe imprimir la altura en la pantalla.\n",
        "\n",
        "Recuerda que el movimiento de caída libre simplificado cumple la ecuación: $y(t) = H + vt - \\frac{1}{2}gt^2$.\n"
      ]
    },
    {
      "cell_type": "code",
      "source": [
        "#Si tomamos a nuestro sistema de referencia en el suelo de la torre de Pisa. Entonces, es claro que la altura H de la torre resultará positiva, pues se están realizando los\n",
        "#cálculos a partir del (0,0) hacia el eje Y positivo. \n",
        "\n",
        "#-------------------------------------------------------------------------RECORDATORIO--------------------------------------------------\n",
        "#Las variables deben estar en unidades del S.I, por lo que convertiremos las unidades de \"t\" de minutos a segundos:\n",
        "t_0= 0.05616667  \n",
        "t= t_0 * 60\n",
        "\n",
        "#De los datos del problema y del recordatorio, podemos declara las siguientes variables:\n",
        "m=100\n",
        "t= t_0 * 60\n",
        "g=9.8\n",
        "v= 0\n",
        "#Obs. la velocidad es cero pues es la velocidad en el instante en el que el objeto toca el suelo.\n",
        "\n",
        "\n",
        "#Ahora, manipulando la ecuación de caida libre, suponga que y(t)= 0 cuando el objeto toca el suelo. Así, despejando a H de la ecuación, nos queda que:\n",
        "H = ((1/2)*g*(t**2)) - (v*t)\n",
        "\n",
        "#Finalmente, concatenamos las variables en una sola leyenda para imprimir:\n",
        "print(f\"La altura de la torre de Pisa es de: {H} m\" )\n",
        "\n"
      ],
      "metadata": {
        "colab": {
          "base_uri": "https://localhost:8080/"
        },
        "id": "KdiAoCikVMtQ",
        "outputId": "b52ba38b-e03c-435e-ff81-23d3c9f121f6"
      },
      "execution_count": null,
      "outputs": [
        {
          "output_type": "stream",
          "name": "stdout",
          "text": [
            "La altura de la torre de Pisa es de: 55.64881660520021 m\n"
          ]
        }
      ]
    },
    {
      "cell_type": "markdown",
      "metadata": {
        "id": "hEs9rYTywlmm"
      },
      "source": [
        "### Ejercicio 5 (2 puntos):\n",
        "Considera una lista de números enteros del 0 al 99 : `lista = [0,1, 2, 3, 4, ... , 95, 96, 97, 98, 99]`.\n",
        "En una celda de código, escribe un programa que imprima en la pantalla una la lista que cumpla con las siguientes condiciones:\n",
        "* Los ultimos 10 elementos: debe imprimir lo siguiente `[90, 91, 92, 93, 94, 95, 96, 97, 98, 99]`.\n",
        "* Los primeros 11 elementos: debe imprimir lo siguiente `[0, 1, 2, 3, 4, 5, 6, 7, 8, 9, 10]`.\n",
        "* La serie de elementos de la lista que están entre 60 y 75: debe imprimir lo siguiente `[60, 61, 62, 63, 64, 65, 66, 67, 68, 69, 70, 71, 72, 73, 74, 75]`.\n",
        "* El número 50: debe imprimir lo siguiente `50`.\n",
        "\n",
        "Debes aplicar el concepto de *slicing* para resolver este ejercicio (notación de puntos `[:]`).\n",
        "\n",
        "Puntos menos si se crean listas nuevas para cada caso y/o se seleccionan manualmente los valores.\n",
        "\n",
        "El código de abajo te ayudará a crear la lista del 0 al 99."
      ]
    },
    {
      "cell_type": "code",
      "execution_count": null,
      "metadata": {
        "colab": {
          "base_uri": "https://localhost:8080/"
        },
        "id": "Uuwlow0Owlmn",
        "outputId": "cbb9a6d5-f43d-49b0-c7ef-9aedc82b08f0"
      },
      "outputs": [
        {
          "output_type": "stream",
          "name": "stdout",
          "text": [
            "[0, 1, 2, 3, 4, 5, 6, 7, 8, 9, 10, 11, 12, 13, 14, 15, 16, 17, 18, 19, 20, 21, 22, 23, 24, 25, 26, 27, 28, 29, 30, 31, 32, 33, 34, 35, 36, 37, 38, 39, 40, 41, 42, 43, 44, 45, 46, 47, 48, 49, 50, 51, 52, 53, 54, 55, 56, 57, 58, 59, 60, 61, 62, 63, 64, 65, 66, 67, 68, 69, 70, 71, 72, 73, 74, 75, 76, 77, 78, 79, 80, 81, 82, 83, 84, 85, 86, 87, 88, 89, 90, 91, 92, 93, 94, 95, 96, 97, 98, 99]\n",
            "[90, 91, 92, 93, 94, 95, 96, 97, 98, 99]\n",
            "[0, 1, 2, 3, 4, 5, 6, 7, 8, 9, 10]\n",
            "[60, 61, 62, 63, 64, 65, 66, 67, 68, 69, 70, 71, 72, 73, 74, 75]\n",
            "50\n"
          ]
        }
      ],
      "source": [
        "#Sea \"listaCool\", la lista de números enteros del 0 al 99:\n",
        "listaCool = list(range(100))\n",
        "\n",
        "\n",
        "#Haciendo uso del \"slicing\", segmentaremos a \"listaCool\" en otra lista cuyo primer elemento va desde el 90 hasta el último de \"listaCool\" (en este caso, al no incluir nada despues de \n",
        "#los dos puntos, se interpreta que tomaremos la lista hasta donde termina la lista de origen). Por claridad, declararemos como variable a los segmentos de lista creados:\n",
        "alpha = listaCool[90:]\n",
        "print(alpha)\n",
        "\n",
        "\n",
        "#Análogamente, al no incluir nada antes de los dos puntos, Python interpreta que la nueva lista iniciará con los primeros elementos de \"listaCool\". Al decrarar despues de los dos\n",
        "#puntos el 11, nuestro segmento de lista termina hasta el elemento 10.\n",
        "betha = listaCool[:11]\n",
        "print(betha)\n",
        "\n",
        "\n",
        "#Ahora, extraeremos la lista que va desde el elemento 60 hasta el elemento 75 (recuerde que al declarar hasta qué índice de la lista de origen termina el segmento de lista que \n",
        "#queremos, éste no es inclusivo, es decir, tomará al elemento cuyo índice es 75).\n",
        "gamma = listaCool[60:76]\n",
        "print(gamma)\n",
        "\n",
        "#Definimos a la variable delta que corresponde al elemnto 51 extraido de \"listaCool\". Note que como no pusimos los dos puntos, Python interpreta que solo tomaremos el elemento cuyo \n",
        "#índice en la lista es 51 (recuerde que en Python se empieza a contar desde 0).\n",
        "delta= listaCool[50]\n",
        "print(delta)"
      ]
    },
    {
      "cell_type": "markdown",
      "metadata": {
        "id": "17gqTNWjwlmp"
      },
      "source": [
        "### Puntos extras, este ejercicio es opcional (5 puntos):\n",
        "Replica el código visto en clase para simular los volados. Discute los resultados obtenidos. ¿Qué observas? ¿Qué puedes concluir? ¿Qué pasa cuando la cantidad de volados es muy pequeña? ¿Qué pasa cuando la cantidad de volados es muy grande?\n",
        "\n",
        "En caso de errores con librerias no encontradas, debes hacer en una celda de código lo siguiente:\n",
        "\n",
        "`!pip install nombre_de_la_libreria`. Por ejemplo para plotly: `!pip install plotly`."
      ]
    },
    {
      "cell_type": "code",
      "execution_count": null,
      "metadata": {
        "id": "Ev6kQ4lswlmq",
        "outputId": "b3ec8128-5449-4189-cdfd-6a8835b31c46"
      },
      "outputs": [
        {
          "name": "stdout",
          "output_type": "stream",
          "text": [
            "Defaulting to user installation because normal site-packages is not writeable\n",
            "Requirement already satisfied: plotly in c:\\programdata\\anaconda3\\lib\\site-packages (5.9.0)\n",
            "Requirement already satisfied: tenacity>=6.2.0 in c:\\programdata\\anaconda3\\lib\\site-packages (from plotly) (8.0.1)\n"
          ]
        }
      ],
      "source": [
        "!pip install plotly"
      ]
    }
  ],
  "metadata": {
    "kernelspec": {
      "display_name": "Python 3.9.13 ('base')",
      "language": "python",
      "name": "python3"
    },
    "language_info": {
      "codemirror_mode": {
        "name": "ipython",
        "version": 3
      },
      "file_extension": ".py",
      "mimetype": "text/x-python",
      "name": "python",
      "nbconvert_exporter": "python",
      "pygments_lexer": "ipython3",
      "version": "3.9.13"
    },
    "orig_nbformat": 4,
    "vscode": {
      "interpreter": {
        "hash": "ad2bdc8ecc057115af97d19610ffacc2b4e99fae6737bb82f5d7fb13d2f2c186"
      }
    },
    "colab": {
      "provenance": []
    }
  },
  "nbformat": 4,
  "nbformat_minor": 0
}