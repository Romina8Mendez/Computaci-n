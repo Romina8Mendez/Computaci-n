{
  "cells": [
    {
      "cell_type": "markdown",
      "metadata": {
        "id": "y0KS64PDwdQy"
      },
      "source": [
        "# Tarea 8: Más listas y ciclos for\n",
        "### Computación - 8108\n",
        "#### Facultad de Ciencias - UNAM\n",
        "#### Profesores: C. Fís. Omar Trejo, C. Fís. Iván Jiménez, Pedro Flores-Silva\n",
        "\n",
        "Instrucciones: Este notebook contiene una serie de ejercicios que deben ser resueltos. Cada ejercicio se encuentra en una celda, ya sea de código o Markdown. Debes crear una o dos *celdas debajo de cada ejercicio* con tu(s) respectiva(s) respuestas. No modifiques las celdas originales.\n",
        "Recuerda que para ejecutar el código de una celda, presionar `Ctlr + Enter` o bien el boton de `play` en el editor Jupyter notebook.\n",
        "\n",
        "Cada ejercicio tendrá diferente valor, y se indicará en la celda de éste. La calificación final será la suma de los puntos obtenidos en cada ejercicio. Se calificará considerando la calidad de la respuesta, la claridad de la explicación y la correctitud del código. Por ejemplo, si el código no ejecuta la respuesta correcta pero se da una idea textual, se demuestra que hay comprensión del problema y el código hace sentido para el revisor, se otorgará una calificación parcial. Esto es, las respuestas no solo se evaluarán como bien o mal, sino que se considerará el esfuerzo. \n",
        "\n",
        "El codigo que realices debes comentarlo donde creas necesario, no vale no hacer ningún comentario. Recuerda que los comentarios son importantes para que el código sea legible y entendible, éstos se agregan con el símbolo # ."
      ]
    },
    {
      "cell_type": "code",
      "source": [],
      "metadata": {
        "id": "_absje74wgcD"
      },
      "execution_count": null,
      "outputs": []
    },
    {
      "cell_type": "markdown",
      "metadata": {
        "id": "XXUe9C-AwdQ_"
      },
      "source": [
        "### Ejercicio 1 (1 punto):\n",
        "Considera la siguiente lista de números: `lista = [1, 2, 2, 2, 465, 465, 787, 788, 99, \"mundo\", \"hola mundo\", \"adios mundo\", \"hola mundo\"]`. A partir de la lista crea otra lista que contenga los elementos únicos e imprimela.\n",
        "\n",
        "No vale crear la lista manualmente, debes hacerlo con código.\n",
        "\n",
        "El resultado debe ser: `[1, 2, 99, 'mundo', 'hola mundo', 465, 787, 788, 'adios mundo']`"
      ]
    },
    {
      "cell_type": "code",
      "source": [
        "#Definimos la siguiente lista, de la cual, extraeremos sus elementos únicos:\n",
        "listaa = [1, 2, 2, 2, 465, 465, 787, 788, 99, \"mundo\", \"hola mundo\", \"adios mundo\", \"hola mundo\"]\n",
        "\n",
        "#Al aplicar la estructura \"set\" a listaa, obtenemos un conjunto cuyos elementos son los mismos de listaa (sin incluir a los elemento repetidos). Este conjunto los llamaremos\n",
        "#\"set_Auxiliar\". Despues, convertimos el conjunto obtenido a una lista con la estructura \"list()\"; esta lista la llamaremos \"lista_elementosUnicos\" y será la lista que contiene a los\n",
        "#elementos de \"listaa\" sin repetirlos. Finalmente, imprimimos a \"lista_elementosUnicos\".\n",
        "set_Auxiliar=set(listaa)\n",
        "lista_elementosUnicos = list(set_Auxiliar)\n",
        "print(lista_elementosUnicos)\n",
        "\n"
      ],
      "metadata": {
        "id": "-et7214uymps",
        "colab": {
          "base_uri": "https://localhost:8080/"
        },
        "outputId": "65311a96-dac6-4504-b63a-7e0d9ab9d791"
      },
      "execution_count": null,
      "outputs": [
        {
          "output_type": "stream",
          "name": "stdout",
          "text": [
            "[1, 2, 99, 465, 'adios mundo', 787, 788, 'mundo', 'hola mundo']\n"
          ]
        }
      ]
    },
    {
      "cell_type": "markdown",
      "metadata": {
        "id": "6GWKu6qAwdRD"
      },
      "source": [
        "### Ejercicio 2 (4 puntos): Aproximación de $\\pi$\n",
        "Una de las formas más sencillas de calcular $\\pi$ es mediante la siguiente serie infinita de Leibniz:\n",
        "$$\\frac{\\pi}{4} = \\sum_{n=0}^{\\infty}\\frac{(-1)^{n}}{(2n+1)} = \\frac{1}{1} - \\frac{1}{3} + \\frac{1}{5}-\\frac{1}{7}+\\frac{1}{9}-...$$\n",
        "\n",
        "crea un programa para aproximar $\\pi$ utilizando la serie de Leibniz. Usa n = 100000, imprime el valor de tu aproximación tanto el valor de $\\frac{\\pi}{4}$ como $\\pi$.\n",
        "\n",
        "El valor de $\\pi$ se obtiene al despejar:\n",
        "$$\\pi = 4 * \\left(\\sum_{n=0}^{\\infty}\\frac{(-1)^{n}}{(2n+1)} \\right)$$\n",
        "\n",
        "La siguiente celda de codigo ofrece el valor de $\\frac{\\pi}{4}$"
      ]
    },
    {
      "cell_type": "code",
      "execution_count": null,
      "metadata": {
        "id": "WC2QS4IcwdRG",
        "outputId": "6f430dfb-5c63-48d1-aa52-7fb13da2bee6"
      },
      "outputs": [
        {
          "name": "stdout",
          "output_type": "stream",
          "text": [
            "El valor de pi/4 es aproximadamente 0.7853981633974483\n"
          ]
        }
      ],
      "source": [
        "import numpy as np\n",
        "#El valor de pi/4\n",
        "print(\"El valor de pi/4 es aproximadamente {}\".format(np.pi/4))"
      ]
    },
    {
      "cell_type": "code",
      "source": [
        "#Definimos la variable \"a\" cuyo valor es cero. Esta variable nos será de ayuda más adelante.\n",
        "a= 0\n",
        "\n",
        "#Cramos un ciclo for, donde \"n\" sea un contador que tome valores de 0 a 10000. Así, renombramos a la variable \"a\" como la suma de su valor anterior (cero) más la suma de todos los \n",
        "#terminos obtenidos por la sucesión \"(((-1)**n) / ((2*n) +1))\". Posteriormnete, declaramos otra variable definida como el producto de \"a\" por cuatro; esta varible será el valor \n",
        "#aproximado de pi. Finalmente, imprimimos la vafriable \"b\".\n",
        "for n in range(0,100001):\n",
        "  a=a+ (((-1)**n) / ((2*n) +1))\n",
        "  b= a*4\n",
        "\n",
        "print(b)\n"
      ],
      "metadata": {
        "colab": {
          "base_uri": "https://localhost:8080/"
        },
        "id": "brqekhYbpdcE",
        "outputId": "d81cf424-96d7-4f9b-de26-5200ef885821"
      },
      "execution_count": null,
      "outputs": [
        {
          "output_type": "stream",
          "name": "stdout",
          "text": [
            "3.1416026534897203\n"
          ]
        }
      ]
    },
    {
      "cell_type": "markdown",
      "metadata": {
        "id": "Xdt8QATWwdRN"
      },
      "source": [
        "### Ejercicio 3 (4 puntos): Sucesión monótona \n",
        "Una sucesión {$a_n$} es una colección de números relacionados entre sí, en la que se tiene en cuenta la posición relativa de cada número respecto al anterior. Por ejemplo, la sucesión $\\frac{1}{n} = 1, 1/2, 1/3, 1/4, ...$ es convergente a cero ya que cuando $n \\rightarrow \\infty$ el valor de $a_n$ se acerca a cero.\n",
        "\n",
        "Una sucesión podemos verla como una lista, tal que así `[1, 1/2, 1/3,1/10000]` (claramente con un valor maximo, pues en python no podemos tener infinitos elementos en una lista).\n",
        "\n",
        "Considera la sucesión $a_n = 3 - \\frac{1}{n}$, crea un programa que haga una lista con los primeros 10 mil terminos de dicha sucesion (no la imprimas).\n",
        "\n",
        "Imprime los últimos 15 elementos de la lista y discute en una celda Markdown si esta sucesión es convergente y hacía que valor converge. Investiga que condición debe cumplir para que una suceción sea monótona creciente y monótona decreciente, con ello responde si es creciente o decreciente.\t"
      ]
    },
    {
      "cell_type": "code",
      "source": [
        "#Definimos la lista \"listaVacia\" sin elementos. Esta lista nos será de ayuda más adelante.\n",
        "listaVacia=[]\n",
        "\n",
        "#Cramos un ciclo for, donde \"n\" sea un contador que tome valores de 0 a 10000. Después, definimos la variable \"a_n\" igual al término general de la sucesión dada. Posteriormente, a la\n",
        "#lista declarada con anterioridad, le añadiremos todos los valores que tome \"a_n\" a medida que \"n\" aumenta (esto lo hacemos con ayuda del método .append). Luego, definimos a la \n",
        "#variable \"segmentoLista\", la cual, toma el segmento de la lista \"listaVacia\" que va desde el índice 9985 hasta el último elemento de ésta misma (esto se logra haciendo uso del \n",
        "#\"slicing\"). Finalmente, imprimimos a dicho segmento de lista.\n",
        "for n in range(1,10001):\n",
        "  a_n= 3 - (1/n)\n",
        "  listaVacia.append(a_n)\n",
        "segmentoLista= listaVacia[9985:]\n",
        "print(segmentoLista)\n"
      ],
      "metadata": {
        "colab": {
          "base_uri": "https://localhost:8080/"
        },
        "id": "xYn_5i5-2i0z",
        "outputId": "7af629c6-aae0-4f6d-f1b6-954f4f1d2671"
      },
      "execution_count": null,
      "outputs": [
        {
          "output_type": "stream",
          "name": "stdout",
          "text": [
            "[2.999899859803725, 2.99989986983078, 2.999899879855827, 2.9998998898788667, 2.9998998998999, 2.999899909918927, 2.999899919935949, 2.9998999299509657, 2.9998999399639783, 2.9998999499749877, 2.9998999599839937, 2.9998999699909974, 2.999899979995999, 2.9998999899989998, 2.9999]\n"
          ]
        }
      ]
    },
    {
      "cell_type": "markdown",
      "source": [
        "¿La sucesión es convergente?\n",
        "\n",
        "---\n",
        "Un criterio para determinar si converge la sucesión, es mediante el teorema de la aritmética de límites de sucesiones, ya que, observe que la suceión es la resta de dos sucesiones convergentes: las sucesión {3} converge a tres, mientras que {1/n} converge a cero. \n",
        "\n",
        "El teorema afirma que la resta de sucesiones converge a la resta de sus límites, por tanto, la sucesión {a_n} converge a tres.\n",
        "\n",
        "\n",
        "\n",
        "¿La sucesión es creciente o decreciente?\n",
        "\n",
        "---\n",
        "Note que, cada término de la sucesión aumenta mientras n (un número natural) támbién aumenta, es decir que, para todo n se cumple que a_n es menor o igual que a_(n+1). Lo cual, es la definición de \"sucesión monótona creciente\".\n",
        "Por tanto, concluimos que {a_n} es una sucesión monótona creciente.\n",
        "\n"
      ],
      "metadata": {
        "id": "T5YhKDZpGmag"
      }
    },
    {
      "cell_type": "markdown",
      "metadata": {
        "id": "bviewdK9wdRQ"
      },
      "source": [
        "### Ejercicio 4 (1 punto):\n",
        "Crea un ciclo for a modo de que la salida sea la siguiente:\n",
        "\n",
        "10\n",
        "\n",
        "9\n",
        "\n",
        "8\n",
        "\n",
        "7\n",
        "\n",
        "6\n",
        "\n",
        "...\n",
        "\n",
        "2\n",
        "\n",
        "1\n",
        "\n",
        "0\n"
      ]
    },
    {
      "cell_type": "code",
      "source": [
        "#Declararemos una lista que tenga como elementos los datos que queremos obtener en la salida del ciclo. Para economizar código, usamos la estructura list en la que guardaremos los\n",
        "#elementos que van de 0 a 10. Ahora aplicaremos el método \"reversed\" a la variable \"lista\" con el fin de invertir el orden de sus elementos, a esta estructura la nombraremos como \n",
        "#\"listaRev\".\n",
        "lista=list(range(11))\n",
        "listaRev= reversed(lista2)\n",
        "\n",
        "#Despues, creamos un ciclo for en donde el contador \"i\" toma los mismos valores que los elementos de \"listaRev\". Finalmente, imprimimos al contador \"i\".\n",
        "for i in listaRev:\n",
        "  print(i)"
      ],
      "metadata": {
        "colab": {
          "base_uri": "https://localhost:8080/"
        },
        "id": "W99BYPZ-4Xb9",
        "outputId": "80fec417-1fcf-4114-d322-fd7234fd010b"
      },
      "execution_count": null,
      "outputs": [
        {
          "output_type": "stream",
          "name": "stdout",
          "text": [
            "10\n",
            "9\n",
            "8\n",
            "7\n",
            "6\n",
            "5\n",
            "4\n",
            "3\n",
            "2\n",
            "1\n",
            "0\n"
          ]
        }
      ]
    },
    {
      "cell_type": "markdown",
      "metadata": {
        "id": "MVvHfeWrwdRU"
      },
      "source": [
        "### Puntos extras, este ejercicio es opcional (2 puntos):\n",
        "Crea un codigo para calcular el producto punto de dos vectores $\\vec{\\omega}$ y $\\vec{\\eta}$ de dimensión $3$. No vale usar librerias externas, debes hacerlo con ciclos for.\n",
        "\n",
        "Donde $\\vec{\\omega} = (10, 2, -3)$ y $\\vec{\\eta} = (5, -5, 1)$\n",
        "\n",
        "El producto punto de los vectores $\\vec{\\omega}$ y $\\vec{\\eta}$ se define como:\n",
        "$$<\\vec{\\omega},\\vec{\\eta}> = \\vec{\\omega} \\cdot \\vec{\\eta} = \\omega_{1}\\eta_{1} + \\omega_{2}\\eta_{2} + \\omega_{3}\\eta_{3} = 10*5 + 2*(-5) + (-3)*1=37$$"
      ]
    },
    {
      "cell_type": "code",
      "source": [
        "#Para sintetizar el algoritmo de la operación del producto punto, definimos la función \"operaciones\" cuyos parametros son las componentes x,y,z de los dos vectores en el espacio.\n",
        "#Posteriormente, declaramos otra variable nombrada \"prod\", la cual, toma la estructura de la fórmula para obtener el productio punto (la suma del producto de las entradas). Al \n",
        "#aplicar esta función, te devolverá el valor de \"prod\" evaluada en los respectivos parametros. \n",
        "def operaciones(x1,x2,y1,y2,z1,z2):\n",
        "  prod= (x1*x2) + (y1*y2) + (z1*z2)\n",
        "  return prod\n",
        "\n",
        "#Así, definimos la variable \"ProductoPunto\" haciendo uso de la función \"operaciones\", donde los parametros ya tienen valores específicos, en este caso, los valores son las entradas \n",
        "#de los vectores w y n. Finalmente, al ejecturase esta función, imprimimos el valor de \"ProductoPunto\".\n",
        "ProductoPunto= operaciones(10,5,2,-5,-3,1)\n",
        "print(ProductoPunto)\n",
        "\n"
      ],
      "metadata": {
        "id": "Z51zDUKX9Yxi",
        "colab": {
          "base_uri": "https://localhost:8080/"
        },
        "outputId": "31ce6e8c-a6f4-45fe-b05f-e9eb1454cc1c"
      },
      "execution_count": null,
      "outputs": [
        {
          "output_type": "stream",
          "name": "stdout",
          "text": [
            "37\n"
          ]
        }
      ]
    }
  ],
  "metadata": {
    "kernelspec": {
      "display_name": "Python 3.9.13 ('base')",
      "language": "python",
      "name": "python3"
    },
    "language_info": {
      "codemirror_mode": {
        "name": "ipython",
        "version": 3
      },
      "file_extension": ".py",
      "mimetype": "text/x-python",
      "name": "python",
      "nbconvert_exporter": "python",
      "pygments_lexer": "ipython3",
      "version": "3.9.13"
    },
    "orig_nbformat": 4,
    "vscode": {
      "interpreter": {
        "hash": "ad2bdc8ecc057115af97d19610ffacc2b4e99fae6737bb82f5d7fb13d2f2c186"
      }
    },
    "colab": {
      "provenance": []
    }
  },
  "nbformat": 4,
  "nbformat_minor": 0
}